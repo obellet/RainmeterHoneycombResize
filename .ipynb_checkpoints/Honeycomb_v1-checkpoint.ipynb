{
 "cells": [
  {
   "cell_type": "code",
   "execution_count": 2,
   "metadata": {},
   "outputs": [
    {
     "name": "stdout",
     "output_type": "stream",
     "text": [
      "C:\\Users\\Octave\\Documents\\Rainmeter\\Skins\\Honeycomb\\4chan\\4chan.ini\n"
     ]
    }
   ],
   "source": [
    "import os\n",
    "\n",
    "directory = r\"C:\\Users\\Octave\\Documents\\Rainmeter\\Skins\\Honeycomb\\4chan\"\n",
    "\n",
    "for filename in os.listdir(directory):\n",
    "    if filename.endswith(\".ini\"):\n",
    "        print(os.path.join(directory, filename))\n",
    "    else:\n",
    "        continue"
   ]
  },
  {
   "cell_type": "code",
   "execution_count": null,
   "metadata": {},
   "outputs": [],
   "source": [
    "files = []\n",
    "directory = r\"C:\\Users\\Octave\\Documents\\Rainmeter\\Skins\\Honeycomb\"\n",
    "\n",
    "for subdir, dirs, files in os.walk(directory):\n",
    "    for filename in files:\n",
    "        filepath = subdir + os.sep + filename\n",
    "\n",
    "        if filepath.endswith(\".ini\"):\n",
    "             files.append(filepath)\n",
    "        else:\n",
    "            continue"
   ]
  },
  {
   "cell_type": "code",
   "execution_count": null,
   "metadata": {},
   "outputs": [],
   "source": [
    "files"
   ]
  },
  {
   "cell_type": "code",
   "execution_count": null,
   "metadata": {},
   "outputs": [],
   "source": []
  }
 ],
 "metadata": {
  "kernelspec": {
   "display_name": "Python 3",
   "language": "python",
   "name": "python3"
  },
  "language_info": {
   "codemirror_mode": {
    "name": "ipython",
    "version": 3
   },
   "file_extension": ".py",
   "mimetype": "text/x-python",
   "name": "python",
   "nbconvert_exporter": "python",
   "pygments_lexer": "ipython3",
   "version": "3.8.5"
  }
 },
 "nbformat": 4,
 "nbformat_minor": 4
}
