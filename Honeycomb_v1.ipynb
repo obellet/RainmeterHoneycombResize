{
 "cells": [
  {
   "cell_type": "code",
   "execution_count": 1,
   "metadata": {},
   "outputs": [
    {
     "name": "stdout",
     "output_type": "stream",
     "text": [
      "C:\\Users\\Octave\\Documents\\Rainmeter\\Skins\\Honeycomb\\4chan\\4chan.ini\n"
     ]
    }
   ],
   "source": [
    "import configparser\n",
    "import os\n",
    "\n",
    "directory = r\"C:\\Users\\Octave\\Documents\\Rainmeter\\Skins\\Honeycomb\\4chan\" \n",
    "\n",
    "for filename in os.listdir(directory):\n",
    "    if filename.endswith(\".ini\"):\n",
    "        print(os.path.join(directory, filename))\n",
    "    else:\n",
    "        continue"
   ]
  },
  {
   "cell_type": "code",
   "execution_count": 2,
   "metadata": {},
   "outputs": [
    {
     "name": "stdout",
     "output_type": "stream",
     "text": [
      "C:\\Users\\Octave\\Documents\\Rainmeter\\Skins\\Honeycomb\\4chan\\4chan.ini\n"
     ]
    }
   ],
   "source": [
    "directory = r\"C:\\Users\\Octave\\Documents\\Rainmeter\\Skins\\Honeycomb\\4chan\"\n",
    "\n",
    "for subdir, dirs, files in os.walk(directory):\n",
    "    for filename in files:\n",
    "        filepath = subdir + os.sep + filename\n",
    "\n",
    "        if filepath.endswith(\".ini\"):\n",
    "             print(filepath)\n",
    "        else:\n",
    "            continue"
   ]
  },
  {
   "cell_type": "code",
   "execution_count": 3,
   "metadata": {},
   "outputs": [
    {
     "data": {
      "text/plain": [
       "['C:\\\\Users\\\\Octave\\\\Documents\\\\Rainmeter\\\\Skins\\\\Honeycomb\\\\4chan\\\\4chan.ini']"
      ]
     },
     "execution_count": 3,
     "metadata": {},
     "output_type": "execute_result"
    }
   ],
   "source": [
    "from configparser import ConfigParser\n",
    "\n",
    "config = ConfigParser()\n",
    "config.read(filepath)"
   ]
  },
  {
   "cell_type": "code",
   "execution_count": 4,
   "metadata": {},
   "outputs": [
    {
     "name": "stdout",
     "output_type": "stream",
     "text": [
      "90\n"
     ]
    }
   ],
   "source": [
    "print(config['4chan']['H'])"
   ]
  },
  {
   "cell_type": "code",
   "execution_count": 5,
   "metadata": {},
   "outputs": [],
   "source": [
    "mylist = list(config.sections())"
   ]
  },
  {
   "cell_type": "code",
   "execution_count": 6,
   "metadata": {},
   "outputs": [
    {
     "data": {
      "text/plain": [
       "'4chan'"
      ]
     },
     "execution_count": 6,
     "metadata": {},
     "output_type": "execute_result"
    }
   ],
   "source": [
    "mylist[0]"
   ]
  },
  {
   "cell_type": "code",
   "execution_count": 26,
   "metadata": {},
   "outputs": [
    {
     "name": "stdout",
     "output_type": "stream",
     "text": [
      "90\n"
     ]
    }
   ],
   "source": [
    "print(config[mylist[0]]['H'])"
   ]
  },
  {
   "cell_type": "code",
   "execution_count": 10,
   "metadata": {},
   "outputs": [],
   "source": [
    "config.set('4chan' , 'H', '120')"
   ]
  },
  {
   "cell_type": "code",
   "execution_count": 11,
   "metadata": {},
   "outputs": [
    {
     "name": "stdout",
     "output_type": "stream",
     "text": [
      "120\n"
     ]
    }
   ],
   "source": [
    "print(config[mylist[0]]['H'])"
   ]
  },
  {
   "cell_type": "code",
   "execution_count": 15,
   "metadata": {},
   "outputs": [
    {
     "ename": "NameError",
     "evalue": "name 'parser' is not defined",
     "output_type": "error",
     "traceback": [
      "\u001b[1;31m---------------------------------------------------------------------------\u001b[0m",
      "\u001b[1;31mNameError\u001b[0m                                 Traceback (most recent call last)",
      "\u001b[1;32m<ipython-input-15-cd1a96bd7d0e>\u001b[0m in \u001b[0;36m<module>\u001b[1;34m\u001b[0m\n\u001b[0;32m      3\u001b[0m \u001b[1;31m# Writing our configuration file to 'example.ini'\u001b[0m\u001b[1;33m\u001b[0m\u001b[1;33m\u001b[0m\u001b[1;33m\u001b[0m\u001b[0m\n\u001b[0;32m      4\u001b[0m \u001b[1;32mwith\u001b[0m \u001b[0mopen\u001b[0m\u001b[1;33m(\u001b[0m\u001b[1;34m'4chan.ini'\u001b[0m\u001b[1;33m,\u001b[0m \u001b[1;34m'w'\u001b[0m\u001b[1;33m)\u001b[0m \u001b[1;32mas\u001b[0m \u001b[0mconfigfile\u001b[0m\u001b[1;33m:\u001b[0m\u001b[1;33m\u001b[0m\u001b[1;33m\u001b[0m\u001b[0m\n\u001b[1;32m----> 5\u001b[1;33m     \u001b[0mparser\u001b[0m\u001b[1;33m.\u001b[0m\u001b[0mwrite\u001b[0m\u001b[1;33m(\u001b[0m\u001b[0mconfigfile\u001b[0m\u001b[1;33m)\u001b[0m\u001b[1;33m\u001b[0m\u001b[1;33m\u001b[0m\u001b[0m\n\u001b[0m",
      "\u001b[1;31mNameError\u001b[0m: name 'parser' is not defined"
     ]
    }
   ],
   "source": [
    "config.set('4chan' , 'H', '120')\n",
    "\n",
    "# Writing our configuration file to 'example.ini'\n",
    "with open('4chan.ini', 'w') as configfile:\n",
    "    parser.write(configfile)"
   ]
  },
  {
   "cell_type": "code",
   "execution_count": 16,
   "metadata": {},
   "outputs": [],
   "source": [
    "import configparser\n",
    "\n",
    "def set_value_in_property_file(file_path, section, key, value):\n",
    "    config = configparser.RawConfigParser()\n",
    "    config.read(file_path)\n",
    "    config.set(section,key,value)                         \n",
    "    cfgfile = open(file_path,'w')\n",
    "    config.write(cfgfile, space_around_delimiters=False)  # use flag in case case you need to avoid white space.\n",
    "    cfgfile.close()"
   ]
  },
  {
   "cell_type": "code",
   "execution_count": 17,
   "metadata": {},
   "outputs": [],
   "source": [
    "set_value_in_property_file(filepath, '4chan', 'H', '130')"
   ]
  },
  {
   "cell_type": "code",
   "execution_count": null,
   "metadata": {},
   "outputs": [],
   "source": []
  },
  {
   "cell_type": "code",
   "execution_count": null,
   "metadata": {},
   "outputs": [],
   "source": []
  },
  {
   "cell_type": "code",
   "execution_count": null,
   "metadata": {},
   "outputs": [],
   "source": []
  },
  {
   "cell_type": "code",
   "execution_count": null,
   "metadata": {},
   "outputs": [],
   "source": []
  },
  {
   "cell_type": "code",
   "execution_count": null,
   "metadata": {},
   "outputs": [],
   "source": []
  },
  {
   "cell_type": "code",
   "execution_count": 2,
   "metadata": {},
   "outputs": [
    {
     "name": "stdout",
     "output_type": "stream",
     "text": [
      "C:\\Users\\Octave\\Documents\\Rainmeter\\Skins\\Honeycomb\\4chan\\4chan.ini\n",
      "C:\\Users\\Octave\\Documents\\Rainmeter\\Skins\\Honeycomb\\audition\\audition.ini\n",
      "C:\\Users\\Octave\\Documents\\Rainmeter\\Skins\\Honeycomb\\avg\\avg.ini\n",
      "C:\\Users\\Octave\\Documents\\Rainmeter\\Skins\\Honeycomb\\battlenet\\battlenet.ini\n",
      "C:\\Users\\Octave\\Documents\\Rainmeter\\Skins\\Honeycomb\\bitdefender\\bitdefender.ini\n",
      "C:\\Users\\Octave\\Documents\\Rainmeter\\Skins\\Honeycomb\\bittorrent\\bittorrent.ini\n",
      "C:\\Users\\Octave\\Documents\\Rainmeter\\Skins\\Honeycomb\\borderlands\\borderlands.ini\n",
      "C:\\Users\\Octave\\Documents\\Rainmeter\\Skins\\Honeycomb\\calibre\\calibre.ini\n",
      "C:\\Users\\Octave\\Documents\\Rainmeter\\Skins\\Honeycomb\\chrome\\chrome.ini\n",
      "C:\\Users\\Octave\\Documents\\Rainmeter\\Skins\\Honeycomb\\civv\\civv.ini\n",
      "C:\\Users\\Octave\\Documents\\Rainmeter\\Skins\\Honeycomb\\clover\\clover.ini\n",
      "C:\\Users\\Octave\\Documents\\Rainmeter\\Skins\\Honeycomb\\cpu system meter\\cpu.ini\n",
      "C:\\Users\\Octave\\Documents\\Rainmeter\\Skins\\Honeycomb\\crunchyroll\\crunchyroll.ini\n",
      "C:\\Users\\Octave\\Documents\\Rainmeter\\Skins\\Honeycomb\\csgo\\csgo.ini\n",
      "C:\\Users\\Octave\\Documents\\Rainmeter\\Skins\\Honeycomb\\cursevoice\\cursevoice.ini\n",
      "C:\\Users\\Octave\\Documents\\Rainmeter\\Skins\\Honeycomb\\deluge\\deluge.ini\n",
      "C:\\Users\\Octave\\Documents\\Rainmeter\\Skins\\Honeycomb\\dota2\\dota2.ini\n",
      "C:\\Users\\Octave\\Documents\\Rainmeter\\Skins\\Honeycomb\\dropbox\\dropbox.ini\n",
      "C:\\Users\\Octave\\Documents\\Rainmeter\\Skins\\Honeycomb\\evernote\\evernote.ini\n",
      "C:\\Users\\Octave\\Documents\\Rainmeter\\Skins\\Honeycomb\\excel\\excel.ini\n",
      "C:\\Users\\Octave\\Documents\\Rainmeter\\Skins\\Honeycomb\\firefox\\firefox.ini\n",
      "C:\\Users\\Octave\\Documents\\Rainmeter\\Skins\\Honeycomb\\folder\\folder.ini\n",
      "C:\\Users\\Octave\\Documents\\Rainmeter\\Skins\\Honeycomb\\foobar2000\\foobar2000.ini\n",
      "C:\\Users\\Octave\\Documents\\Rainmeter\\Skins\\Honeycomb\\gameboy\\gameboy.ini\n",
      "C:\\Users\\Octave\\Documents\\Rainmeter\\Skins\\Honeycomb\\geforceexperience\\geforceexperience.ini\n",
      "C:\\Users\\Octave\\Documents\\Rainmeter\\Skins\\Honeycomb\\genericgameicon\\genericgameicon.ini\n",
      "C:\\Users\\Octave\\Documents\\Rainmeter\\Skins\\Honeycomb\\generic_mouse_icon\\generic_mouse_icon.ini\n",
      "C:\\Users\\Octave\\Documents\\Rainmeter\\Skins\\Honeycomb\\gimp\\gimp.ini\n",
      "C:\\Users\\Octave\\Documents\\Rainmeter\\Skins\\Honeycomb\\googledrive\\googledrive.ini\n",
      "C:\\Users\\Octave\\Documents\\Rainmeter\\Skins\\Honeycomb\\greenshot\\greenshot.ini\n",
      "C:\\Users\\Octave\\Documents\\Rainmeter\\Skins\\Honeycomb\\guildwars2\\guildwars2.ini\n",
      "C:\\Users\\Octave\\Documents\\Rainmeter\\Skins\\Honeycomb\\guitarrig\\guitarrig.ini\n",
      "C:\\Users\\Octave\\Documents\\Rainmeter\\Skins\\Honeycomb\\hamachi\\hamachi.ini\n",
      "C:\\Users\\Octave\\Documents\\Rainmeter\\Skins\\Honeycomb\\hearthstone\\hearthstone.ini\n",
      "C:\\Users\\Octave\\Documents\\Rainmeter\\Skins\\Honeycomb\\imgur\\imgur.ini\n",
      "C:\\Users\\Octave\\Documents\\Rainmeter\\Skins\\Honeycomb\\intellij\\intellij.ini\n",
      "C:\\Users\\Octave\\Documents\\Rainmeter\\Skins\\Honeycomb\\league\\league.ini\n",
      "C:\\Users\\Octave\\Documents\\Rainmeter\\Skins\\Honeycomb\\minecraft\\minecraft.ini\n",
      "C:\\Users\\Octave\\Documents\\Rainmeter\\Skins\\Honeycomb\\minecraft\\minecraft_alt_icon.ini\n",
      "C:\\Users\\Octave\\Documents\\Rainmeter\\Skins\\Honeycomb\\mirrorsedge\\mirrorsedge.ini\n",
      "C:\\Users\\Octave\\Documents\\Rainmeter\\Skins\\Honeycomb\\mumble\\mumble.ini\n",
      "C:\\Users\\Octave\\Documents\\Rainmeter\\Skins\\Honeycomb\\music\\music.ini\n",
      "C:\\Users\\Octave\\Documents\\Rainmeter\\Skins\\Honeycomb\\notepad\\notepad.ini\n",
      "C:\\Users\\Octave\\Documents\\Rainmeter\\Skins\\Honeycomb\\origin\\origin.ini\n",
      "C:\\Users\\Octave\\Documents\\Rainmeter\\Skins\\Honeycomb\\osu\\osu.ini\n",
      "C:\\Users\\Octave\\Documents\\Rainmeter\\Skins\\Honeycomb\\outlook\\outlook.ini\n",
      "C:\\Users\\Octave\\Documents\\Rainmeter\\Skins\\Honeycomb\\pandora\\pandora.ini\n",
      "C:\\Users\\Octave\\Documents\\Rainmeter\\Skins\\Honeycomb\\photoshop\\photoshop.ini\n",
      "C:\\Users\\Octave\\Documents\\Rainmeter\\Skins\\Honeycomb\\plex\\plex.ini\n",
      "C:\\Users\\Octave\\Documents\\Rainmeter\\Skins\\Honeycomb\\popcorntime\\popcorntime.ini\n",
      "C:\\Users\\Octave\\Documents\\Rainmeter\\Skins\\Honeycomb\\portableapps\\portableapps.ini\n",
      "C:\\Users\\Octave\\Documents\\Rainmeter\\Skins\\Honeycomb\\powerpoint\\powerpoint.ini\n",
      "C:\\Users\\Octave\\Documents\\Rainmeter\\Skins\\Honeycomb\\premiere\\premiere.ini\n",
      "C:\\Users\\Octave\\Documents\\Rainmeter\\Skins\\Honeycomb\\raidcall\\raidcall.ini\n",
      "C:\\Users\\Octave\\Documents\\Rainmeter\\Skins\\Honeycomb\\rainmeter\\rainmeter.ini\n",
      "C:\\Users\\Octave\\Documents\\Rainmeter\\Skins\\Honeycomb\\ram_system_meter\\ram.ini\n",
      "C:\\Users\\Octave\\Documents\\Rainmeter\\Skins\\Honeycomb\\reddit\\reddit.ini\n",
      "C:\\Users\\Octave\\Documents\\Rainmeter\\Skins\\Honeycomb\\robocraft\\robocraft.ini\n",
      "C:\\Users\\Octave\\Documents\\Rainmeter\\Skins\\Honeycomb\\rocksmith\\rocksmith.ini\n",
      "C:\\Users\\Octave\\Documents\\Rainmeter\\Skins\\Honeycomb\\rosstone\\rosstone.ini\n",
      "C:\\Users\\Octave\\Documents\\Rainmeter\\Skins\\Honeycomb\\runescape\\runescape.ini\n",
      "C:\\Users\\Octave\\Documents\\Rainmeter\\Skins\\Honeycomb\\settings\\settings.ini\n",
      "C:\\Users\\Octave\\Documents\\Rainmeter\\Skins\\Honeycomb\\skype\\skype.ini\n",
      "C:\\Users\\Octave\\Documents\\Rainmeter\\Skins\\Honeycomb\\skyrim\\skyrim.ini\n",
      "C:\\Users\\Octave\\Documents\\Rainmeter\\Skins\\Honeycomb\\smite\\smite.ini\n",
      "C:\\Users\\Octave\\Documents\\Rainmeter\\Skins\\Honeycomb\\speedfan\\speedfan.ini\n",
      "C:\\Users\\Octave\\Documents\\Rainmeter\\Skins\\Honeycomb\\spore\\spore.ini\n",
      "C:\\Users\\Octave\\Documents\\Rainmeter\\Skins\\Honeycomb\\spotify\\spotify.ini\n",
      "C:\\Users\\Octave\\Documents\\Rainmeter\\Skins\\Honeycomb\\starcraft\\starcraft.ini\n",
      "C:\\Users\\Octave\\Documents\\Rainmeter\\Skins\\Honeycomb\\steam\\steam.ini\n",
      "C:\\Users\\Octave\\Documents\\Rainmeter\\Skins\\Honeycomb\\synctoy\\synctoy.ini\n",
      "C:\\Users\\Octave\\Documents\\Rainmeter\\Skins\\Honeycomb\\teamspeak\\teamspeak.ini\n",
      "C:\\Users\\Octave\\Documents\\Rainmeter\\Skins\\Honeycomb\\teamspeak\\teamspeak_alternate_icon.ini\n",
      "C:\\Users\\Octave\\Documents\\Rainmeter\\Skins\\Honeycomb\\ticonnect\\ticonnect.ini\n",
      "C:\\Users\\Octave\\Documents\\Rainmeter\\Skins\\Honeycomb\\tor\\tor.ini\n",
      "C:\\Users\\Octave\\Documents\\Rainmeter\\Skins\\Honeycomb\\transmission\\transmission.ini\n",
      "C:\\Users\\Octave\\Documents\\Rainmeter\\Skins\\Honeycomb\\twitch\\reddit.ini\n",
      "C:\\Users\\Octave\\Documents\\Rainmeter\\Skins\\Honeycomb\\utorrent\\utorrent.ini\n",
      "C:\\Users\\Octave\\Documents\\Rainmeter\\Skins\\Honeycomb\\utorrent\\utorrent_alt_image.ini\n",
      "C:\\Users\\Octave\\Documents\\Rainmeter\\Skins\\Honeycomb\\ventrillo\\ventrillo.ini\n",
      "C:\\Users\\Octave\\Documents\\Rainmeter\\Skins\\Honeycomb\\visualstudio\\visualstudio.ini\n",
      "C:\\Users\\Octave\\Documents\\Rainmeter\\Skins\\Honeycomb\\vlc\\vlc-icon2.ini\n",
      "C:\\Users\\Octave\\Documents\\Rainmeter\\Skins\\Honeycomb\\vlc\\vlc.ini\n",
      "C:\\Users\\Octave\\Documents\\Rainmeter\\Skins\\Honeycomb\\vuze\\vuze.ini\n",
      "C:\\Users\\Octave\\Documents\\Rainmeter\\Skins\\Honeycomb\\word\\word.ini\n",
      "C:\\Users\\Octave\\Documents\\Rainmeter\\Skins\\Honeycomb\\xbmc\\xbmc.ini\n",
      "C:\\Users\\Octave\\Documents\\Rainmeter\\Skins\\Honeycomb\\youtube\\youtube.ini\n"
     ]
    }
   ],
   "source": [
    "files = []\n",
    "directory = r\"C:\\Users\\Octave\\Documents\\Rainmeter\\Skins\\Honeycomb\"\n",
    "\n",
    "for subdir, dirs, files in os.walk(directory):\n",
    "    for filename in files:\n",
    "        filepath = subdir + os.sep + filename\n",
    "\n",
    "        if filepath.endswith(\".ini\"):\n",
    "             print(filepath)\n",
    "        else:\n",
    "            continue"
   ]
  },
  {
   "cell_type": "code",
   "execution_count": null,
   "metadata": {},
   "outputs": [],
   "source": []
  },
  {
   "cell_type": "code",
   "execution_count": null,
   "metadata": {},
   "outputs": [],
   "source": []
  }
 ],
 "metadata": {
  "kernelspec": {
   "display_name": "Python 3",
   "language": "python",
   "name": "python3"
  },
  "language_info": {
   "codemirror_mode": {
    "name": "ipython",
    "version": 3
   },
   "file_extension": ".py",
   "mimetype": "text/x-python",
   "name": "python",
   "nbconvert_exporter": "python",
   "pygments_lexer": "ipython3",
   "version": "3.8.3"
  }
 },
 "nbformat": 4,
 "nbformat_minor": 4
}
